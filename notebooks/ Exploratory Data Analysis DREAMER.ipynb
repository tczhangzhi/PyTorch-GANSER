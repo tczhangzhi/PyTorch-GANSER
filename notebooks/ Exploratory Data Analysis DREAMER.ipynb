{
 "cells": [
  {
   "cell_type": "code",
   "execution_count": 1,
   "metadata": {},
   "outputs": [],
   "source": [
    "from pathlib import Path"
   ]
  },
  {
   "cell_type": "code",
   "execution_count": 2,
   "metadata": {},
   "outputs": [],
   "source": [
    "DATASET_BASE_DIR = Path('/home/username/Data/eeg-datasets/')\n",
    "DATASET_SEED_DIR = DATASET_BASE_DIR / 'DREAMER'"
   ]
  },
  {
   "cell_type": "code",
   "execution_count": 3,
   "metadata": {},
   "outputs": [
    {
     "name": "stdout",
     "output_type": "stream",
     "text": [
      "DREAMER.mat  DREAMER.pdf  Processed.mat\r\n"
     ]
    }
   ],
   "source": [
    "!ls $DATASET_SEED_DIR"
   ]
  },
  {
   "cell_type": "code",
   "execution_count": 6,
   "metadata": {},
   "outputs": [],
   "source": [
    "import scipy.io as scio\n",
    "\n",
    "data = scio.loadmat(DATASET_SEED_DIR / 'DREAMER.mat', verify_compressed_data_integrity=False)"
   ]
  },
  {
   "cell_type": "markdown",
   "metadata": {},
   "source": [
    "The DREAMER database contains the participant ratings and physiological recordings of an experiment where 23 volunteers watched 18 film clips selected and evaluated by Gabert-Quillen et al. [1]. EEG and ECG signals were recorded and each participant rated their emotion by reporting the felt arousal, valence and dominance on five point scales. For more details, please refer to [2].\n",
    "\n",
    "The DREAMER database consists of the “DREAMER.mat” file in Matlab format. Loading this file loads a variable named “DREAMER” in the workspace. The “DREAMER” variable is structured as follows:\n",
    "\n",
    "DREAMER = struct with fields:\n",
    "Data: {1×23 cell}\n",
    "\n",
    "EEG_SamplingRate: 128\n",
    "\n",
    "ECG_SamplingRate: 256\n",
    "\n",
    "EEG_Electrodes: {'AF3' 'F7' 'F3' 'FC5' 'T7' 'P7' 'O1' 'O2' 'P8' 'T8' 'FC6' 'F4' 'F8' 'AF4'} noOfSubjects: 23\n",
    "noOfVideoSequences: 18\n",
    "\n",
    "Disclaimer: 'While every care has been taken...' Provider: 'University of the West of Scotland'\n",
    "\n",
    "Version: '1.0.2'\n",
    "\n",
    "Acknowledgement: 'The authors would like to thank...'"
   ]
  },
  {
   "cell_type": "code",
   "execution_count": 30,
   "metadata": {},
   "outputs": [
    {
     "data": {
      "text/plain": [
       "array([[array(['AF3'], dtype='<U3'), array(['F7'], dtype='<U2'),\n",
       "        array(['F3'], dtype='<U2'), array(['FC5'], dtype='<U3'),\n",
       "        array(['T7'], dtype='<U2'), array(['P7'], dtype='<U2'),\n",
       "        array(['O1'], dtype='<U2'), array(['O2'], dtype='<U2'),\n",
       "        array(['P8'], dtype='<U2'), array(['T8'], dtype='<U2'),\n",
       "        array(['FC6'], dtype='<U3'), array(['F4'], dtype='<U2'),\n",
       "        array(['F8'], dtype='<U2'), array(['AF4'], dtype='<U3')]],\n",
       "      dtype=object)"
      ]
     },
     "execution_count": 30,
     "metadata": {},
     "output_type": "execute_result"
    }
   ],
   "source": [
    "data['DREAMER'][0,0]\n",
    "data['DREAMER'][0,0]['Data']\n",
    "data['DREAMER'][0,0]['EEG_SamplingRate']\n",
    "data['DREAMER'][0,0]['ECG_SamplingRate']\n",
    "data['DREAMER'][0,0]['EEG_Electrodes']"
   ]
  },
  {
   "cell_type": "markdown",
   "metadata": {},
   "source": [
    "The cell DREAMER.Data{i} contains the data for the ith participant and is structured as follows:\n",
    "struct with fields:\n",
    "\n",
    "Age: 'X'\n",
    "\n",
    "Gender: 'X' ('male' or 'female') EEG: [1×1 struct]\n",
    "\n",
    "ECG: [1×1 struct]\n",
    "\n",
    "ScoreValence: [18×1 double] ScoreArousal: [18×1 double] ScoreDominance: [18×1 double]\n",
    "\n",
    "ScoreValence, ScoreArousal and ScoreDominance are vectors that their ith element corresponds to the participant rating for the ith film clip in terms of Valence, Arousal, and Dominance respectively."
   ]
  },
  {
   "cell_type": "code",
   "execution_count": 34,
   "metadata": {},
   "outputs": [
    {
     "data": {
      "text/plain": [
       "array([[array([[4],\n",
       "       [3],\n",
       "       [5],\n",
       "       [4],\n",
       "       [4],\n",
       "       [1],\n",
       "       [5],\n",
       "       [1],\n",
       "       [1],\n",
       "       [5],\n",
       "       [4],\n",
       "       [4],\n",
       "       [4],\n",
       "       [3],\n",
       "       [2],\n",
       "       [3],\n",
       "       [1],\n",
       "       [3]], dtype=uint8)]], dtype=object)"
      ]
     },
     "execution_count": 34,
     "metadata": {},
     "output_type": "execute_result"
    }
   ],
   "source": [
    "data['DREAMER'][0,0]['Data'][0,0]['EEG']\n",
    "data['DREAMER'][0,0]['Data'][0,0]['ECG']\n",
    "data['DREAMER'][0,0]['Data'][0,0]['Age']\n",
    "data['DREAMER'][0,0]['Data'][0,0]['Gender']\n",
    "data['DREAMER'][0,0]['Data'][0,0]['ScoreValence']\n",
    "data['DREAMER'][0,0]['Data'][0,0]['ScoreArousal']\n",
    "data['DREAMER'][0,0]['Data'][0,0]['ScoreDominance']"
   ]
  },
  {
   "cell_type": "markdown",
   "metadata": {},
   "source": [
    "The EEG and ECG recordings are stored in the DREAMER.Data{i}.EEG and DREAMER.Data{i}.ECG variables respectively which are structured as follows:\n",
    "struct with fields:\n",
    "\n",
    "baseline: {18×1 cell} stimuli: {18×1 cell}"
   ]
  },
  {
   "cell_type": "code",
   "execution_count": 45,
   "metadata": {},
   "outputs": [
    {
     "data": {
      "text/plain": [
       "(18, 1)"
      ]
     },
     "execution_count": 45,
     "metadata": {},
     "output_type": "execute_result"
    }
   ],
   "source": [
    "data['DREAMER'][0,0]['Data'][0,0]['EEG'][0,0]['baseline'][0,0].shape"
   ]
  },
  {
   "cell_type": "code",
   "execution_count": 47,
   "metadata": {},
   "outputs": [
    {
     "data": {
      "text/plain": [
       "(7808, 14)"
      ]
     },
     "execution_count": 47,
     "metadata": {},
     "output_type": "execute_result"
    }
   ],
   "source": [
    "data['DREAMER'][0,0]['Data'][0,0]['EEG'][0,0]['baseline'][0,0][0][0].shape"
   ]
  },
  {
   "cell_type": "code",
   "execution_count": 48,
   "metadata": {},
   "outputs": [
    {
     "data": {
      "text/plain": [
       "(18, 1)"
      ]
     },
     "execution_count": 48,
     "metadata": {},
     "output_type": "execute_result"
    }
   ],
   "source": [
    "data['DREAMER'][0,0]['Data'][0,0]['EEG'][0,0]['stimuli'][0,0].shape"
   ]
  },
  {
   "cell_type": "code",
   "execution_count": 49,
   "metadata": {},
   "outputs": [
    {
     "data": {
      "text/plain": [
       "(25472, 14)"
      ]
     },
     "execution_count": 49,
     "metadata": {},
     "output_type": "execute_result"
    }
   ],
   "source": [
    "data['DREAMER'][0,0]['Data'][0,0]['EEG'][0,0]['stimuli'][0,0][0][0].shape"
   ]
  },
  {
   "cell_type": "markdown",
   "metadata": {},
   "source": [
    "The recordings referring to the stimuli film clips are stored in the “stimuli” variable, while the recordings for the neutral clip shown before each film clip are stored in the “baseline” variable. The cells ....baseline{i} and ....stimuli{i} contain the data referring to the ith film clip.\n",
    "\n",
    "For ECG, each recording is in the form of an M x 2 matrix where M refers to the number of available samples and each column contains the sample of each of the two ECG channels.\n",
    "\n",
    "For EEG, each recording is in the form of an M x 14 matrix where M refers to the number of available samples and each column contains the sample of each of the 14 EEG channels."
   ]
  },
  {
   "cell_type": "code",
   "execution_count": 68,
   "metadata": {},
   "outputs": [],
   "source": [
    "import numpy as np\n",
    "import pandas as pd\n",
    "\n",
    "def get_labels():\n",
    "    labels = np.zeros((23, 18, 3))\n",
    "    for k in range(0, 23):\n",
    "        for j in range(0, 18):\n",
    "            if data['DREAMER'][0, 0]['Data'][0, k]['ScoreValence'][0, 0][j, 0] < 4:\n",
    "                labels[k, j, 0] = 0\n",
    "            else:\n",
    "                labels[k, j, 0] = 1\n",
    "            if data['DREAMER'][0, 0]['Data'][0, k]['ScoreArousal'][0, 0][j, 0] < 4:\n",
    "                labels[k, j, 1] = 0\n",
    "            else:\n",
    "                labels[k, j, 1] = 1\n",
    "            if data['DREAMER'][0, 0]['Data'][0, k]['ScoreDominance'][0, 0][j, 0] < 4:\n",
    "                labels[k, j, 2] = 0\n",
    "            else:\n",
    "                labels[k, j, 2] = 1\n",
    "    return labels\n",
    "\n",
    "labels = get_labels()"
   ]
  },
  {
   "cell_type": "code",
   "execution_count": 63,
   "metadata": {},
   "outputs": [],
   "source": [
    "def get_features(FREQ = 128):\n",
    "    volunteers = []\n",
    "    for k in range(23):\n",
    "        clips = []\n",
    "        for j in range(18):\n",
    "            basl = data['DREAMER'][0, 0]['Data'][0, k]['EEG'][0, 0]['baseline'][0, 0][j, 0].swapaxes(1, 0)\n",
    "            basl = basl.reshape(basl.shape[0], -1, FREQ)\n",
    "            basl = basl.mean(1, keepdims=True)\n",
    "\n",
    "            stim = data['DREAMER'][0, 0]['Data'][0, k]['EEG'][0, 0]['stimuli'][0, 0][j, 0].swapaxes(1, 0)\n",
    "            stim = stim.reshape(basl.shape[0], -1, FREQ)\n",
    "\n",
    "            stim = (stim - basl).swapaxes(1, 0)\n",
    "\n",
    "            clips.append(stim)\n",
    "        volunteers.append(clips)\n",
    "    return volunteers\n",
    "\n",
    "features = get_features()"
   ]
  },
  {
   "cell_type": "code",
   "execution_count": 77,
   "metadata": {},
   "outputs": [],
   "source": [
    "def mult2binary_labels(features, labels):\n",
    "    volunteers = features\n",
    "    volunteer_labels = []\n",
    "    for k in range(23):\n",
    "        clip_labels = []\n",
    "        for j in range(18):\n",
    "            label = labels[k][j]\n",
    "            label = label[np.newaxis, ...]\n",
    "            label = np.repeat(label, volunteers[k][j].shape[0], axis=0)\n",
    "            clip_labels.append(label)\n",
    "        volunteer_labels.append(clip_labels)\n",
    "    return volunteer_labels\n",
    "\n",
    "binary_labels = mult2binary_labels(features, labels)"
   ]
  },
  {
   "cell_type": "code",
   "execution_count": 78,
   "metadata": {},
   "outputs": [],
   "source": [
    "import operator\n",
    "import functools\n",
    "\n",
    "def flatten_samples(samples):\n",
    "    samples = functools.reduce(operator.concat, samples)\n",
    "    samples = np.concatenate(samples)\n",
    "    \n",
    "    return samples"
   ]
  },
  {
   "cell_type": "code",
   "execution_count": 81,
   "metadata": {},
   "outputs": [],
   "source": [
    "flattened_features = flatten_samples(features)\n",
    "flatttened_labels = flatten_samples(labels)"
   ]
  },
  {
   "cell_type": "code",
   "execution_count": 90,
   "metadata": {},
   "outputs": [],
   "source": [
    "CHANNEL_LIST = ['AF3','F7','F3','FC5','T7','P7','O1','O2','P8','T8','FC6','F4','F8','AF4']\n",
    "\n",
    "LOCATION_LIST = [['-', '-', '-', 'FP1', '-', 'FP2', '-', '-', '-'], ['-', '-', '-', 'AF3', '-', 'AF4', '-', '-', '-'],\n",
    "                 ['F7', '-', 'F3', '-', 'FZ', '-', 'F4', '-', 'F8'],\n",
    "                 ['-', 'FC5', '-', 'FC1', '-', 'FC2', '-', 'FC6', '-'],\n",
    "                 ['T7', '-', 'C3', '-', 'CZ', '-', 'C4', '-', 'T8'],\n",
    "                 ['-', 'CP5', '-', 'CP1', '-', 'CP2', '-', 'CP6', '-'],\n",
    "                 ['P7', '-', 'P3', '-', 'PZ', '-', 'P4', '-', 'P8'], ['-', '-', '-', 'PO3', '-', 'PO4', '-', '-', '-'],\n",
    "                 ['-', '-', '-', 'O1', 'OZ', 'O2', '-', '-', '-']]\n",
    "\n",
    "\n",
    "def get_channel_location(channel_list, location_list):\n",
    "    location_list = np.array(location_list)\n",
    "    output = {}\n",
    "    for channel in channel_list:\n",
    "        location = (np.argwhere(location_list == channel)[0] + 1).tolist()\n",
    "        output[channel] = location\n",
    "    return output\n",
    "\n",
    "\n",
    "def channel_to_location(data, norm_fn=None):\n",
    "    # sample_num*channel*bands\n",
    "    data = data.swapaxes(0, 1)\n",
    "    # channel*sample_num*bands\n",
    "    outputs = np.zeros([9, 9, *data.shape[1:]])\n",
    "    channel_location = get_channel_location(CHANNEL_LIST, LOCATION_LIST)\n",
    "    for i, (x, y) in enumerate(channel_location.values()):\n",
    "        x = x - 1\n",
    "        y = y - 1\n",
    "        if norm_fn:\n",
    "            outputs[x][y] = norm_fn(data[i])\n",
    "        else:\n",
    "            outputs[x][y] = data[i]\n",
    "    # 9*9*sample_num*bands\n",
    "    outputs = outputs.transpose([2, 3, 0, 1])\n",
    "    return outputs"
   ]
  },
  {
   "cell_type": "code",
   "execution_count": 92,
   "metadata": {},
   "outputs": [],
   "source": [
    "flattened_features_2d = channel_to_location(flattened_features)"
   ]
  },
  {
   "cell_type": "code",
   "execution_count": 94,
   "metadata": {},
   "outputs": [],
   "source": [
    "import pickle as pkl\n",
    "\n",
    "with open('./cache/dreamer_binary_dataset.pkl', 'wb') as file:\n",
    "    pkl.dump({\n",
    "        'feature': flattened_features_2d,\n",
    "        'label': flatttened_labels\n",
    "    }, file, protocol=4)"
   ]
  },
  {
   "cell_type": "code",
   "execution_count": null,
   "metadata": {},
   "outputs": [],
   "source": []
  }
 ],
 "metadata": {
  "interpreter": {
   "hash": "d5d63b5954160115f3cf0604b23007005d48a4c893852930d0f6ede4b55ea290"
  },
  "kernelspec": {
   "display_name": "Python 3.7.2 64-bit ('base': conda)",
   "name": "python3"
  },
  "language_info": {
   "name": "python",
   "version": ""
  }
 },
 "nbformat": 4,
 "nbformat_minor": 2
}